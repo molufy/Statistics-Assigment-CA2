{
  "cells": [
    {
      "attachments": {},
      "cell_type": "markdown",
      "metadata": {
        "id": "CJSdn82v4wDB"
      },
      "source": [
        "Question 1"
      ]
    },
    {
      "cell_type": "code",
      "execution_count": 15,
      "metadata": {
        "colab": {
          "base_uri": "https://localhost:8080/"
        },
        "id": "frwy21IC4x7R",
        "outputId": "7dc54343-3008-4511-c29a-78872b363f65"
      },
      "outputs": [
        {
          "name": "stdout",
          "output_type": "stream",
          "text": [
            "Test statistics: 4.632401295793565\n",
            "Critical value: 2.5758293035489004\n",
            "\n",
            "|Test statistics| > Critical value: Hypothesis H0 of equal means of two populations is rejected.\n",
            "Alternative hypothesis H1 is accepted\n",
            "\n",
            "Conclusion: The means of two populations are not equal at the significant level alpha = 0.01\n"
          ]
        }
      ],
      "source": [
        "from pandas import read_csv\n",
        "\n",
        "import pandas \n",
        "\n",
        "dataset = read_csv(\"Exams_Piotr_Moleda.csv\")\n",
        "\n",
        "dataset.corr(numeric_only = True)\n",
        "\n",
        "''' a) Consider two variables of the dataset, and develop a decision-making strategy to check whether two averages of variables are equal at the significant level alpha = 0.01.\n",
        "Two columns with numerical values Rating and Opposition Rating are taken to test the hypothesis whether two averages of variables are equal at the significant level alpha = 0.01.\n",
        "These columns show the highest correlation with the Result variable. '''\n",
        "\n",
        "rating = dataset [\"Rating\"]\n",
        "\n",
        "oprating = dataset [\"Opposition Rating\"]\n",
        "\n",
        "Alpha = 0.01\n",
        "\n",
        "from statistics import mean, stdev\n",
        "from math import sqrt\n",
        "xbar1 = mean (rating)\n",
        "xbar2 = mean (oprating)\n",
        "sigma1 = stdev (rating)\n",
        "sigma2 = stdev (oprating)\n",
        "n1 = len (rating)\n",
        "n2 = len (oprating)\n",
        "test_value =(xbar1 - xbar2)/sqrt(sigma1**2/n1 + sigma2**2/n2)\n",
        "\n",
        "from scipy.stats import norm\n",
        "c_value = norm.ppf (1 - Alpha/2)\n",
        "\n",
        "print (\"Test statistics:\", test_value)\n",
        "print (\"Critical value:\", c_value)\n",
        "\n",
        "if (abs(test_value) >= c_value):\n",
        "  print (\"\\n|Test statistics| > Critical value: Hypothesis H0 of equal means of two populations is rejected.\")\n",
        "  print (\"Alternative hypothesis H1 is accepted\")\n",
        "  print (\"\\nConclusion: The means of two populations are not equal at the significant level alpha =\", Alpha)\n",
        "else:\n",
        "  print (\"|Test statistics| < Critical value: Hypothesis H0 of equal means of two populations is accepted.\")"
      ]
    },
    {
      "cell_type": "code",
      "execution_count": 16,
      "metadata": {
        "colab": {
          "base_uri": "https://localhost:8080/"
        },
        "id": "hX0_04uv7y_Q",
        "outputId": "55def978-f801-4ce3-def1-da857a5d0151"
      },
      "outputs": [
        {
          "name": "stdout",
          "output_type": "stream",
          "text": [
            "Test statistics: 4.632401295793565\n",
            "Critical value: 1.6448536269514722\n",
            "\n",
            "|Test statistics| > Critical value: Hypothesis H0 of equal means of two populations is rejected.\n",
            "Alternative hypothesis H1 is accepted\n",
            "\n",
            "Conclusion: The means of two populations are different at the significant level alpha = 0.1\n"
          ]
        }
      ],
      "source": [
        "''' b) Consider two variables of the dataset, and develop a decision-making strategy to check whether two averages of variables are different at the significant level alpha = 0.10.\n",
        "Two columns Rating and Opposition Rating are taken to test the hypothesis whether two averages of variables are different at the significant level alpha = 0.10.'''\n",
        "\n",
        "Alpha = 0.10\n",
        "\n",
        "from statistics import mean, stdev\n",
        "from math import sqrt\n",
        "xbar1 = mean (rating)\n",
        "xbar2 = mean (oprating)\n",
        "sigma1 = stdev (rating)\n",
        "sigma2 = stdev (oprating)\n",
        "n1 = len (rating)\n",
        "n2 = len (oprating)\n",
        "test_value =(xbar1 - xbar2)/sqrt(sigma1**2/n1 + sigma2**2/n2)\n",
        "\n",
        "from scipy.stats import norm\n",
        "c_value = norm.ppf (1 - Alpha/2)\n",
        "\n",
        "print (\"Test statistics:\", test_value)\n",
        "print (\"Critical value:\", c_value)\n",
        "\n",
        "if (abs(test_value) >= c_value):\n",
        "  print (\"\\n|Test statistics| > Critical value: Hypothesis H0 of equal means of two populations is rejected.\")\n",
        "  print (\"Alternative hypothesis H1 is accepted\")\n",
        "  print (\"\\nConclusion: The means of two populations are different at the significant level alpha =\", Alpha)\n",
        "else:\n",
        "  print (\"|Test statistics| < Critical value: Hypothesis H0 of equal means of two populations is accepted.\")"
      ]
    },
    {
      "cell_type": "code",
      "execution_count": 17,
      "metadata": {
        "colab": {
          "base_uri": "https://localhost:8080/"
        },
        "id": "KBKB95y398Y9",
        "outputId": "179c3975-2296-47f9-85a2-f777a13684e5"
      },
      "outputs": [
        {
          "name": "stdout",
          "output_type": "stream",
          "text": [
            "Test statistics: -1.748304723800737\n",
            "Critical value: 1.959963984540054\n",
            "\n",
            "|Test statistics| < Critical value: Hypothesis H0: Mu =  9.5 is accepted.\n"
          ]
        }
      ],
      "source": [
        "''' с) Consider one variable in the dataset, and apply the test of the mean for a proposed candidate of 𝜇 at the significant level alpha=0.05.\n",
        "Variable Result is chosen and hypothesis testing whether its mean equals to 9.5 will be performed.'''\n",
        "\n",
        "data = dataset [\"Result\"]\n",
        "\n",
        "Mu = 9.5\n",
        "\n",
        "Alpha = 0.05\n",
        "\n",
        "from statistics import mean, stdev\n",
        "from math import sqrt\n",
        "xbar = mean (data)\n",
        "sigma = stdev (data)\n",
        "n = len (rating)\n",
        "test_value =(xbar - Mu)/sqrt(sigma**2/n)\n",
        "\n",
        "from scipy.stats import norm\n",
        "c_value = norm.ppf (1 - Alpha/2)\n",
        "\n",
        "print (\"Test statistics:\", test_value)\n",
        "print (\"Critical value:\", c_value)\n",
        "\n",
        "if (abs(test_value) >= c_value):\n",
        "  print (\"\\n|Test statistics| > Critical value: Hypothesis H0: Mu = \", Mu,\"is rejected.\")\n",
        "else:\n",
        "  print (\"\\n|Test statistics| < Critical value: Hypothesis H0: Mu = \", Mu,\"is accepted.\")"
      ]
    },
    {
      "attachments": {},
      "cell_type": "markdown",
      "metadata": {},
      "source": [
        "Question 2"
      ]
    },
    {
      "cell_type": "code",
      "execution_count": 18,
      "metadata": {
        "colab": {
          "base_uri": "https://localhost:8080/",
          "height": 508
        },
        "id": "sIJoMQgi-NPd",
        "outputId": "8398ffde-37be-422b-ba49-c6f852f6023d"
      },
      "outputs": [
        {
          "data": {
            "text/html": [
              "<table class=\"simpletable\">\n",
              "<caption>OLS Regression Results</caption>\n",
              "<tr>\n",
              "  <th>Dep. Variable:</th>         <td>Result</td>      <th>  R-squared:         </th> <td>   0.425</td>\n",
              "</tr>\n",
              "<tr>\n",
              "  <th>Model:</th>                   <td>OLS</td>       <th>  Adj. R-squared:    </th> <td>   0.418</td>\n",
              "</tr>\n",
              "<tr>\n",
              "  <th>Method:</th>             <td>Least Squares</td>  <th>  F-statistic:       </th> <td>   62.41</td>\n",
              "</tr>\n",
              "<tr>\n",
              "  <th>Date:</th>             <td>Sun, 02 Jul 2023</td> <th>  Prob (F-statistic):</th> <td>5.06e-21</td>\n",
              "</tr>\n",
              "<tr>\n",
              "  <th>Time:</th>                 <td>13:11:35</td>     <th>  Log-Likelihood:    </th> <td> -705.70</td>\n",
              "</tr>\n",
              "<tr>\n",
              "  <th>No. Observations:</th>      <td>   172</td>      <th>  AIC:               </th> <td>   1417.</td>\n",
              "</tr>\n",
              "<tr>\n",
              "  <th>Df Residuals:</th>          <td>   169</td>      <th>  BIC:               </th> <td>   1427.</td>\n",
              "</tr>\n",
              "<tr>\n",
              "  <th>Df Model:</th>              <td>     2</td>      <th>                     </th>     <td> </td>   \n",
              "</tr>\n",
              "<tr>\n",
              "  <th>Covariance Type:</th>      <td>nonrobust</td>    <th>                     </th>     <td> </td>   \n",
              "</tr>\n",
              "</table>\n",
              "<table class=\"simpletable\">\n",
              "<tr>\n",
              "          <td></td>             <th>coef</th>     <th>std err</th>      <th>t</th>      <th>P>|t|</th>  <th>[0.025</th>    <th>0.975]</th>  \n",
              "</tr>\n",
              "<tr>\n",
              "  <th>const</th>             <td>   52.4265</td> <td>   35.278</td> <td>    1.486</td> <td> 0.139</td> <td>  -17.216</td> <td>  122.069</td>\n",
              "</tr>\n",
              "<tr>\n",
              "  <th>Rating</th>            <td>    1.0029</td> <td>    0.398</td> <td>    2.520</td> <td> 0.013</td> <td>    0.217</td> <td>    1.789</td>\n",
              "</tr>\n",
              "<tr>\n",
              "  <th>Opposition Rating</th> <td>   -1.6103</td> <td>    0.149</td> <td>  -10.802</td> <td> 0.000</td> <td>   -1.905</td> <td>   -1.316</td>\n",
              "</tr>\n",
              "</table>\n",
              "<table class=\"simpletable\">\n",
              "<tr>\n",
              "  <th>Omnibus:</th>       <td> 0.528</td> <th>  Durbin-Watson:     </th> <td>   1.854</td>\n",
              "</tr>\n",
              "<tr>\n",
              "  <th>Prob(Omnibus):</th> <td> 0.768</td> <th>  Jarque-Bera (JB):  </th> <td>   0.655</td>\n",
              "</tr>\n",
              "<tr>\n",
              "  <th>Skew:</th>          <td> 0.026</td> <th>  Prob(JB):          </th> <td>   0.721</td>\n",
              "</tr>\n",
              "<tr>\n",
              "  <th>Kurtosis:</th>      <td> 2.702</td> <th>  Cond. No.          </th> <td>3.60e+03</td>\n",
              "</tr>\n",
              "</table><br/><br/>Notes:<br/>[1] Standard Errors assume that the covariance matrix of the errors is correctly specified.<br/>[2] The condition number is large, 3.6e+03. This might indicate that there are<br/>strong multicollinearity or other numerical problems."
            ],
            "text/plain": [
              "<class 'statsmodels.iolib.summary.Summary'>\n",
              "\"\"\"\n",
              "                            OLS Regression Results                            \n",
              "==============================================================================\n",
              "Dep. Variable:                 Result   R-squared:                       0.425\n",
              "Model:                            OLS   Adj. R-squared:                  0.418\n",
              "Method:                 Least Squares   F-statistic:                     62.41\n",
              "Date:                Sun, 02 Jul 2023   Prob (F-statistic):           5.06e-21\n",
              "Time:                        13:11:35   Log-Likelihood:                -705.70\n",
              "No. Observations:                 172   AIC:                             1417.\n",
              "Df Residuals:                     169   BIC:                             1427.\n",
              "Df Model:                           2                                         \n",
              "Covariance Type:            nonrobust                                         \n",
              "=====================================================================================\n",
              "                        coef    std err          t      P>|t|      [0.025      0.975]\n",
              "-------------------------------------------------------------------------------------\n",
              "const                52.4265     35.278      1.486      0.139     -17.216     122.069\n",
              "Rating                1.0029      0.398      2.520      0.013       0.217       1.789\n",
              "Opposition Rating    -1.6103      0.149    -10.802      0.000      -1.905      -1.316\n",
              "==============================================================================\n",
              "Omnibus:                        0.528   Durbin-Watson:                   1.854\n",
              "Prob(Omnibus):                  0.768   Jarque-Bera (JB):                0.655\n",
              "Skew:                           0.026   Prob(JB):                        0.721\n",
              "Kurtosis:                       2.702   Cond. No.                     3.60e+03\n",
              "==============================================================================\n",
              "\n",
              "Notes:\n",
              "[1] Standard Errors assume that the covariance matrix of the errors is correctly specified.\n",
              "[2] The condition number is large, 3.6e+03. This might indicate that there are\n",
              "strong multicollinearity or other numerical problems.\n",
              "\"\"\""
            ]
          },
          "execution_count": 18,
          "metadata": {},
          "output_type": "execute_result"
        }
      ],
      "source": [
        "''' a) Build an ordinary least square model (OLS) for your dataset and show the summary\n",
        "information. '''\n",
        "\n",
        "import statsmodels.api as sm\n",
        "\n",
        "y = dataset [\"Result\"]\n",
        "\n",
        "x = dataset [[\"Rating\",\"Opposition Rating\"]]\n",
        "\n",
        "x = sm.add_constant (x)\n",
        "\n",
        "results = sm.OLS (y,x). fit ()\n",
        "\n",
        "results.summary ()"
      ]
    },
    {
      "cell_type": "code",
      "execution_count": 19,
      "metadata": {
        "colab": {
          "base_uri": "https://localhost:8080/",
          "height": 469
        },
        "id": "7iVCP-2ay_Bc",
        "outputId": "9fbed70d-4797-438f-d875-c7b032fc4de8"
      },
      "outputs": [
        {
          "data": {
            "text/html": [
              "<table class=\"simpletable\">\n",
              "<caption>OLS Regression Results</caption>\n",
              "<tr>\n",
              "  <th>Dep. Variable:</th>         <td>Result</td>      <th>  R-squared (uncentered):</th>      <td>   0.484</td>\n",
              "</tr>\n",
              "<tr>\n",
              "  <th>Model:</th>                   <td>OLS</td>       <th>  Adj. R-squared (uncentered):</th> <td>   0.478</td>\n",
              "</tr>\n",
              "<tr>\n",
              "  <th>Method:</th>             <td>Least Squares</td>  <th>  F-statistic:       </th>          <td>   79.60</td>\n",
              "</tr>\n",
              "<tr>\n",
              "  <th>Date:</th>             <td>Sun, 02 Jul 2023</td> <th>  Prob (F-statistic):</th>          <td>4.02e-25</td>\n",
              "</tr>\n",
              "<tr>\n",
              "  <th>Time:</th>                 <td>13:11:35</td>     <th>  Log-Likelihood:    </th>          <td> -706.82</td>\n",
              "</tr>\n",
              "<tr>\n",
              "  <th>No. Observations:</th>      <td>   172</td>      <th>  AIC:               </th>          <td>   1418.</td>\n",
              "</tr>\n",
              "<tr>\n",
              "  <th>Df Residuals:</th>          <td>   170</td>      <th>  BIC:               </th>          <td>   1424.</td>\n",
              "</tr>\n",
              "<tr>\n",
              "  <th>Df Model:</th>              <td>     2</td>      <th>                     </th>              <td> </td>   \n",
              "</tr>\n",
              "<tr>\n",
              "  <th>Covariance Type:</th>      <td>nonrobust</td>    <th>                     </th>              <td> </td>   \n",
              "</tr>\n",
              "</table>\n",
              "<table class=\"simpletable\">\n",
              "<tr>\n",
              "          <td></td>             <th>coef</th>     <th>std err</th>      <th>t</th>      <th>P>|t|</th>  <th>[0.025</th>    <th>0.975]</th>  \n",
              "</tr>\n",
              "<tr>\n",
              "  <th>Rating</th>            <td>    1.5596</td> <td>    0.135</td> <td>   11.555</td> <td> 0.000</td> <td>    1.293</td> <td>    1.826</td>\n",
              "</tr>\n",
              "<tr>\n",
              "  <th>Opposition Rating</th> <td>   -1.5294</td> <td>    0.139</td> <td>  -10.981</td> <td> 0.000</td> <td>   -1.804</td> <td>   -1.255</td>\n",
              "</tr>\n",
              "</table>\n",
              "<table class=\"simpletable\">\n",
              "<tr>\n",
              "  <th>Omnibus:</th>       <td> 0.362</td> <th>  Durbin-Watson:     </th> <td>   1.873</td>\n",
              "</tr>\n",
              "<tr>\n",
              "  <th>Prob(Omnibus):</th> <td> 0.834</td> <th>  Jarque-Bera (JB):  </th> <td>   0.516</td>\n",
              "</tr>\n",
              "<tr>\n",
              "  <th>Skew:</th>          <td> 0.057</td> <th>  Prob(JB):          </th> <td>   0.772</td>\n",
              "</tr>\n",
              "<tr>\n",
              "  <th>Kurtosis:</th>      <td> 2.757</td> <th>  Cond. No.          </th> <td>    19.7</td>\n",
              "</tr>\n",
              "</table><br/><br/>Notes:<br/>[1] R² is computed without centering (uncentered) since the model does not contain a constant.<br/>[2] Standard Errors assume that the covariance matrix of the errors is correctly specified."
            ],
            "text/plain": [
              "<class 'statsmodels.iolib.summary.Summary'>\n",
              "\"\"\"\n",
              "                                 OLS Regression Results                                \n",
              "=======================================================================================\n",
              "Dep. Variable:                 Result   R-squared (uncentered):                   0.484\n",
              "Model:                            OLS   Adj. R-squared (uncentered):              0.478\n",
              "Method:                 Least Squares   F-statistic:                              79.60\n",
              "Date:                Sun, 02 Jul 2023   Prob (F-statistic):                    4.02e-25\n",
              "Time:                        13:11:35   Log-Likelihood:                         -706.82\n",
              "No. Observations:                 172   AIC:                                      1418.\n",
              "Df Residuals:                     170   BIC:                                      1424.\n",
              "Df Model:                           2                                                  \n",
              "Covariance Type:            nonrobust                                                  \n",
              "=====================================================================================\n",
              "                        coef    std err          t      P>|t|      [0.025      0.975]\n",
              "-------------------------------------------------------------------------------------\n",
              "Rating                1.5596      0.135     11.555      0.000       1.293       1.826\n",
              "Opposition Rating    -1.5294      0.139    -10.981      0.000      -1.804      -1.255\n",
              "==============================================================================\n",
              "Omnibus:                        0.362   Durbin-Watson:                   1.873\n",
              "Prob(Omnibus):                  0.834   Jarque-Bera (JB):                0.516\n",
              "Skew:                           0.057   Prob(JB):                        0.772\n",
              "Kurtosis:                       2.757   Cond. No.                         19.7\n",
              "==============================================================================\n",
              "\n",
              "Notes:\n",
              "[1] R² is computed without centering (uncentered) since the model does not contain a constant.\n",
              "[2] Standard Errors assume that the covariance matrix of the errors is correctly specified.\n",
              "\"\"\""
            ]
          },
          "execution_count": 19,
          "metadata": {},
          "output_type": "execute_result"
        }
      ],
      "source": [
        "''' b) Find the intercept and the coefficients, and write the model equation that considers only significant features.\n",
        "P > |t| for the constant is greater than significance level, therefore a constant is insignificant in the model and needs to be removed. '''\n",
        "\n",
        "import statsmodels.api as sm\n",
        "\n",
        "y = dataset [\"Result\"]\n",
        "\n",
        "x = dataset [[\"Rating\",\"Opposition Rating\"]]\n",
        "\n",
        "results2 = sm.OLS (y,x). fit ()\n",
        "\n",
        "results2.summary ()"
      ]
    },
    {
      "cell_type": "code",
      "execution_count": 20,
      "metadata": {
        "colab": {
          "base_uri": "https://localhost:8080/"
        },
        "id": "JnEYiRW7zGVg",
        "outputId": "8d9ebf26-1a47-4a7b-e84c-bd89d92193a0"
      },
      "outputs": [
        {
          "name": "stdout",
          "output_type": "stream",
          "text": [
            "\n",
            "R-squared =  0.48359832064826225\n",
            "\n",
            "The model shows moderate level of correlation\n",
            "----------------------------------------------\n",
            "Residuals for each data point:\n",
            "\n"
          ]
        },
        {
          "data": {
            "text/plain": [
              "0      15.984586\n",
              "1      -8.998260\n",
              "2      -3.856269\n",
              "3     -24.430417\n",
              "4     -17.097990\n",
              "         ...    \n",
              "167    -4.490632\n",
              "168    17.421118\n",
              "169   -11.881035\n",
              "170     9.570061\n",
              "171    13.465878\n",
              "Length: 172, dtype: float64"
            ]
          },
          "execution_count": 20,
          "metadata": {},
          "output_type": "execute_result"
        }
      ],
      "source": [
        "''' c) Evaluate your model using an appropriate evaluation metric and find the residuals for each\n",
        "data point '''\n",
        "\n",
        "R2 = results2.rsquared\n",
        "\n",
        "print (\"\\nR-squared = \", R2)\n",
        "if (R2 > 0.7):\n",
        "  print (\"\\nThe model shows high level of correlation\")\n",
        "elif (R2 > 0.4):\n",
        "  print (\"\\nThe model shows moderate level of correlation\")\n",
        "else:\n",
        "  print (\"\\nThe model shows low level of correlation\")\n",
        "\n",
        "print (\"----------------------------------------------\")\n",
        "print (\"Residuals for each data point:\\n\")\n",
        "results2.resid"
      ]
    },
    {
      "cell_type": "code",
      "execution_count": 21,
      "metadata": {
        "colab": {
          "base_uri": "https://localhost:8080/"
        },
        "id": "Sj9Z45oTzQbB",
        "outputId": "536dd63a-ac4d-4ebf-bfad-9cf63db90dbe"
      },
      "outputs": [
        {
          "name": "stdout",
          "output_type": "stream",
          "text": [
            "Predicted the target values for the last 10 rows in the dataset:\n",
            "162     7.869359\n",
            "163     6.885790\n",
            "164     3.188567\n",
            "165     8.227908\n",
            "166     4.938175\n",
            "167     8.490632\n",
            "168    29.578882\n",
            "169    22.881035\n",
            "170    -2.570061\n",
            "171    29.534122\n",
            "dtype: float64\n",
            "\n",
            "-----------------------------------\n",
            "New predicted value for x =  [[90, 90]] is [2.71819584]\n"
          ]
        }
      ],
      "source": [
        "''' d) Predict the target values for the last 10 rows in your dataset, and predict one more value from your suggestion.\n",
        " Prediction is using the model without a constant in order to get a higher correlation. '''\n",
        "\n",
        "last10 = x.tail (10)\n",
        "\n",
        "predicted = results2.predict (last10)\n",
        "print (\"Predicted the target values for the last 10 rows in the dataset:\")\n",
        "print (predicted)\n",
        "\n",
        "x_predicted = [[90,90]]\n",
        "\n",
        "y_predicted = results2.predict (x_predicted)\n",
        "\n",
        "print (\"\\n-----------------------------------\")\n",
        "print (\"New predicted value for x = \", x_predicted, \"is\",y_predicted)"
      ]
    }
  ],
  "metadata": {
    "colab": {
      "provenance": []
    },
    "kernelspec": {
      "display_name": "Python 3",
      "name": "python3"
    },
    "language_info": {
      "codemirror_mode": {
        "name": "ipython",
        "version": 3
      },
      "file_extension": ".py",
      "mimetype": "text/x-python",
      "name": "python",
      "nbconvert_exporter": "python",
      "pygments_lexer": "ipython3",
      "version": "3.10.9"
    }
  },
  "nbformat": 4,
  "nbformat_minor": 0
}
